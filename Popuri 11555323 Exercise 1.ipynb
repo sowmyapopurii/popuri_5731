{
 "cells": [
  {
   "cell_type": "markdown",
   "metadata": {
    "colab_type": "text",
    "id": "view-in-github"
   },
   "source": [
    "<a href=\"https://colab.research.google.com/github/unt-iialab/INFO5731_Spring2020/blob/master/In_class_exercise/In_class_exercise_01.ipynb\" target=\"_parent\"><img src=\"https://colab.research.google.com/assets/colab-badge.svg\" alt=\"Open In Colab\"/></a>"
   ]
  },
  {
   "cell_type": "markdown",
   "metadata": {
    "colab_type": "text",
    "id": "DymRJbxDBCnf"
   },
   "source": [
    "# **The first In-class-exercise (09/07/2022, 40 points in total)**"
   ]
  },
  {
   "cell_type": "markdown",
   "metadata": {
    "colab_type": "text",
    "id": "03jb4GZsBkBS"
   },
   "source": [
    "(1) Write a Python program to calculate the length of a string. (4 points)"
   ]
  },
  {
   "cell_type": "code",
   "execution_count": 4,
   "metadata": {
    "colab": {},
    "colab_type": "code",
    "id": "YaGLbSHHB8Ej"
   },
   "outputs": [
    {
     "name": "stdout",
     "output_type": "stream",
     "text": [
      "14\n"
     ]
    }
   ],
   "source": [
    "# write your answer here\n",
    "\n",
    "input_str = \"Discovery park\"\n",
    "print(len(input_str))"
   ]
  },
  {
   "cell_type": "markdown",
   "metadata": {
    "colab_type": "text",
    "id": "jJDe71iLB616"
   },
   "source": [
    "(2) Write a Python program to count the number of characters in a string. (4 points)\n",
    "\n",
    "Sample String : 'google.com‘, \n",
    "\n",
    "Expected Result : {'o': 3, 'g': 2, '.': 1, 'e': 1, 'l': 1, 'm': 1, 'c': 1}"
   ]
  },
  {
   "cell_type": "code",
   "execution_count": 8,
   "metadata": {
    "colab": {},
    "colab_type": "code",
    "id": "MtKskTzbCLaU"
   },
   "outputs": [
    {
     "name": "stdout",
     "output_type": "stream",
     "text": [
      "{'o': 3, 'g': 2, '.': 1, 'c': 1, 'l': 1, 'e': 1, 'm': 1}\n"
     ]
    }
   ],
   "source": [
    "# write your answer here\n",
    "\n",
    "import operator\n",
    "\n",
    "input_str = \"google.com\"\n",
    "\n",
    "dict_count = {}\n",
    "for i in set(input_str):\n",
    "    dict_count[i] = input_str.count(i)\n",
    "    \n",
    "dict_count = dict(sorted(dict_count.items(), key=operator.itemgetter(1),reverse=True))\n",
    "print(dict_count)"
   ]
  },
  {
   "cell_type": "markdown",
   "metadata": {
    "colab_type": "text",
    "id": "55W9AMdXCSpV"
   },
   "source": [
    "(3) Write a Python program to sum all the items in a list. (4 points)"
   ]
  },
  {
   "cell_type": "code",
   "execution_count": 12,
   "metadata": {
    "colab": {},
    "colab_type": "code",
    "id": "I57NXsauCec2"
   },
   "outputs": [
    {
     "name": "stdout",
     "output_type": "stream",
     "text": [
      "65\n"
     ]
    }
   ],
   "source": [
    "# write your answer here\n",
    "\n",
    "list_elements = [11, 12, 13, 14, 15]\n",
    "\n",
    "elements_sum = 0\n",
    "\n",
    "for num in list_elements:\n",
    "    elements_sum += num\n",
    "\n",
    "print(elements_sum)"
   ]
  },
  {
   "cell_type": "markdown",
   "metadata": {
    "colab_type": "text",
    "id": "4ulBZ6yhCi9F"
   },
   "source": [
    "(4) Write a Python program to get a string from a given string where all occurrences of its first char have been changed to '\\$', except the first char itself. (4 points)\n",
    "\n",
    "Sample String : 'restart‘, \n",
    "\n",
    "Expected Result : 'resta\\$t'"
   ]
  },
  {
   "cell_type": "code",
   "execution_count": 14,
   "metadata": {
    "colab": {},
    "colab_type": "code",
    "id": "Fj0XhwbBCw2o"
   },
   "outputs": [
    {
     "name": "stdout",
     "output_type": "stream",
     "text": [
      "resta*t\n"
     ]
    }
   ],
   "source": [
    "# write your answer here\n",
    "\n",
    "sample_string = \"restart\"\n",
    "\n",
    "# the below replaces all the occurences of a string except the first char itself...\n",
    "result = \"\".join((sample_string[0], sample_string[1:].replace(sample_string[0], \"*\")))\n",
    "print(result)"
   ]
  },
  {
   "cell_type": "markdown",
   "metadata": {
    "colab_type": "text",
    "id": "_bIP7s1MCzue"
   },
   "source": [
    "(5) Write a program with python which could accept two parameter a and b to calculate and output the result of S, where \n",
    "\n",
    "$\\ S=3.14*(1+a/b)^3$ (4 points)\n",
    "\n"
   ]
  },
  {
   "cell_type": "code",
   "execution_count": 15,
   "metadata": {
    "colab": {},
    "colab_type": "code",
    "id": "w79QilHXD3Mg"
   },
   "outputs": [
    {
     "name": "stdout",
     "output_type": "stream",
     "text": [
      "Enter the value of a: 4\n",
      "Enter the value of b: 5\n",
      "The value of S is: 18.312480000000004\n"
     ]
    }
   ],
   "source": [
    "# write your answer here\n",
    "a = int(input(\"Enter the value of a: \"))\n",
    "b = int(input(\"Enter the value of b: \"))\n",
    "\n",
    "S = 3.14 * (1 + (a/b)) ** 3\n",
    "print(\"The value of S is: {}\".format(S))"
   ]
  },
  {
   "cell_type": "markdown",
   "metadata": {
    "colab_type": "text",
    "id": "xCa2bK9aD4Q3"
   },
   "source": [
    "(6) Write a Python program to concatenate following dictionaries to create a new one. (4 points)\n",
    "\n",
    "Sample Dictionary : dic1={1:10, 2:20}, dic2={3:30, 4:40}, dic3={5:50,6:60}, \n",
    "\n",
    "Expected Result : {1: 10, 2: 20, 3: 30, 4: 40, 5: 50, 6: 60}\n"
   ]
  },
  {
   "cell_type": "code",
   "execution_count": 16,
   "metadata": {
    "colab": {},
    "colab_type": "code",
    "id": "_z4aLqAbEET1"
   },
   "outputs": [
    {
     "name": "stdout",
     "output_type": "stream",
     "text": [
      "{1: 10, 2: 20, 3: 30, 4: 40, 5: 50, 6: 60}\n"
     ]
    }
   ],
   "source": [
    "# write your answer here\n",
    "\n",
    "dic1 = {1:10, 2:20}\n",
    "dic2 = {3:30, 4:40}\n",
    "dic3 = {5:50, 6:60}\n",
    "\n",
    "result = {}\n",
    "\n",
    "for dic in [dic1, dic2, dic3]:\n",
    "    result.update(dic)\n",
    "    \n",
    "print(result)"
   ]
  },
  {
   "cell_type": "markdown",
   "metadata": {
    "colab_type": "text",
    "id": "0v48Vqa7FrQh"
   },
   "source": [
    "(7) Write a Python program to check whether an element exists within a tuple. (4 points)"
   ]
  },
  {
   "cell_type": "code",
   "execution_count": 19,
   "metadata": {
    "colab": {},
    "colab_type": "code",
    "id": "7WEmgq-DF2P1"
   },
   "outputs": [
    {
     "name": "stdout",
     "output_type": "stream",
     "text": [
      "Enter an element to search: university\n",
      "True\n"
     ]
    }
   ],
   "source": [
    "# write your answer here\n",
    "\n",
    "sample_tuple = (\"university\", \"North Texas\")\n",
    "\n",
    "element = input(\"Enter an element to search: \")\n",
    "\n",
    "if element in sample_tuple:\n",
    "    print(\"True\")\n",
    "else:\n",
    "    print(\"False\")"
   ]
  },
  {
   "cell_type": "markdown",
   "metadata": {
    "colab_type": "text",
    "id": "vD5PYLMuGga_"
   },
   "source": [
    "(8) Write a Python program to find maximum and the minimum value in a set. (4 points)"
   ]
  },
  {
   "cell_type": "code",
   "execution_count": 20,
   "metadata": {
    "colab": {},
    "colab_type": "code",
    "id": "t0D5kdJUGjjw"
   },
   "outputs": [
    {
     "name": "stdout",
     "output_type": "stream",
     "text": [
      "Maximum value is: 18\n",
      "Minimum value is: 6\n"
     ]
    }
   ],
   "source": [
    "# write your answer here\n",
    "\n",
    "sample_set = {12, 15, 6, 8, 16, 18}\n",
    "\n",
    "# uisng max(), min() built-in functions...\n",
    "print(\"Maximum value is: {}\".format(max(sample_set)))\n",
    "print(\"Minimum value is: {}\".format(min(sample_set)))"
   ]
  },
  {
   "cell_type": "markdown",
   "metadata": {
    "colab_type": "text",
    "id": "uHkd-y5VhVWC"
   },
   "source": [
    "(9) Write a Python program to randomly divide the students in this class into six groups for term projects, each group should have at least 4 students but no more than 6 students (including 6). Here is the students list: (4 points)\n",
    "\n",
    "studnet_list = ['ja0964','sa1198','sb1357','vb0218','sc1229','kg0569','kg0470','sg1297','bg0320','fh0141','jl1252','sk1386',\n",
    "           'ak0956','sk1390','sk1458','sk1313','ak0934','vm0377','nm0618','sm1640','sm1907','gn0108','pr0353','dr0609','ms1500','aos0040','ds0814', 'av0659','nv0234','hy0232']"
   ]
  },
  {
   "cell_type": "code",
   "execution_count": 34,
   "metadata": {
    "colab": {},
    "colab_type": "code",
    "id": "3iGbmcOBhTwy"
   },
   "outputs": [
    {
     "name": "stdout",
     "output_type": "stream",
     "text": [
      "['av0659', 'sb1357', 'sk1313', 'fh0141', 'ms1500']\n",
      "['sg1297', 'gn0108', 'vb0218', 'hy0232', 'sm1907', 'dr0609']\n",
      "['sa1198', 'sk1390', 'sc1229', 'sm1640', 'sk1386']\n",
      "['bg0320', 'aos0040', 'nm0618', 'jl1252']\n",
      "['ds0814', 'ak0934', 'nv0234', 'kg0569', 'kg0470', 'pr0353']\n",
      "['vm0377', 'ak0956', 'ja0964', 'sk1458']\n"
     ]
    }
   ],
   "source": [
    "# write your answer here\n",
    "\n",
    "import numpy as np, random\n",
    "studnet_list = ['ja0964','sa1198','sb1357','vb0218','sc1229','kg0569','kg0470','sg1297','bg0320','fh0141','jl1252','sk1386', 'ak0956','sk1390','sk1458','sk1313','ak0934','vm0377','nm0618','sm1640','sm1907','gn0108','pr0353','dr0609','ms1500','aos0040','ds0814', 'av0659','nv0234','hy0232']\n",
    "\n",
    "# we create a group list that sum upto 30\n",
    "len_list = [5, 6, 4, 6, 5, 4]\n",
    "random.shuffle(len_list)\n",
    "result_group = []\n",
    "\n",
    "for i in len_list:\n",
    "    \n",
    "    # generating a sample of length in len_group  \n",
    "    random_group = random.sample(studnet_list, i) \n",
    "    studnet_list = list(set(studnet_list) ^ set(random_group))\n",
    "    result_group = result_group + [random_group]\n",
    "    \n",
    "# random 6 groups are as follows\n",
    "for each_row in result_group:\n",
    "    print(each_row, end= '\\n')"
   ]
  },
  {
   "cell_type": "markdown",
   "metadata": {},
   "source": [
    "(10) Write a Python program to find the duplicate elements in a given array of integers. Return -1 If there are no such elements. (4 points)"
   ]
  },
  {
   "cell_type": "code",
   "execution_count": 38,
   "metadata": {},
   "outputs": [
    {
     "name": "stdout",
     "output_type": "stream",
     "text": [
      "4 6 8 "
     ]
    }
   ],
   "source": [
    "# write your answer here\n",
    "\n",
    "import numpy as np\n",
    "\n",
    "sample_array = np.array([3, 8, 4, 5, 6, 8, 4, 6, 7, 1, 2])\n",
    "flag = 0\n",
    "\n",
    "for num in set(sample_array):\n",
    "    if np.count_nonzero(sample_array == num) > 1:\n",
    "        flag = 1\n",
    "        print(num, end = ' ')\n",
    "\n",
    "if flag == 0:\n",
    "    # The result is -1 if there are no duplicate elements in the array\n",
    "    print(\"-1\")"
   ]
  },
  {
   "cell_type": "markdown",
   "metadata": {},
   "source": [
    "(11) Write a Python program to select all the Sundays of a specified year. (4 extra points)"
   ]
  },
  {
   "cell_type": "code",
   "execution_count": 40,
   "metadata": {},
   "outputs": [
    {
     "name": "stdout",
     "output_type": "stream",
     "text": [
      "Enter a year...1998\n"
     ]
    },
    {
     "data": {
      "text/plain": [
       "['04-January-1998',\n",
       " '11-January-1998',\n",
       " '18-January-1998',\n",
       " '25-January-1998',\n",
       " '01-February-1998',\n",
       " '08-February-1998',\n",
       " '15-February-1998',\n",
       " '22-February-1998',\n",
       " '01-March-1998',\n",
       " '08-March-1998',\n",
       " '15-March-1998',\n",
       " '22-March-1998',\n",
       " '29-March-1998',\n",
       " '05-April-1998',\n",
       " '12-April-1998',\n",
       " '19-April-1998',\n",
       " '26-April-1998',\n",
       " '03-May-1998',\n",
       " '10-May-1998',\n",
       " '17-May-1998',\n",
       " '24-May-1998',\n",
       " '31-May-1998',\n",
       " '07-June-1998',\n",
       " '14-June-1998',\n",
       " '21-June-1998',\n",
       " '28-June-1998',\n",
       " '05-July-1998',\n",
       " '12-July-1998',\n",
       " '19-July-1998',\n",
       " '26-July-1998',\n",
       " '02-August-1998',\n",
       " '09-August-1998',\n",
       " '16-August-1998',\n",
       " '23-August-1998',\n",
       " '30-August-1998',\n",
       " '06-September-1998',\n",
       " '13-September-1998',\n",
       " '20-September-1998',\n",
       " '27-September-1998',\n",
       " '04-October-1998',\n",
       " '11-October-1998',\n",
       " '18-October-1998',\n",
       " '25-October-1998',\n",
       " '01-November-1998',\n",
       " '08-November-1998',\n",
       " '15-November-1998',\n",
       " '22-November-1998',\n",
       " '29-November-1998',\n",
       " '06-December-1998',\n",
       " '13-December-1998',\n",
       " '20-December-1998',\n",
       " '27-December-1998']"
      ]
     },
     "execution_count": 40,
     "metadata": {},
     "output_type": "execute_result"
    }
   ],
   "source": [
    "# write your answer here\n",
    "\n",
    "import pandas as pd\n",
    "\n",
    "def sundays(year):\n",
    "    \n",
    "  # freq: we specify the frequency as sunday, and strftime which is format of date output.\n",
    "  return pd.date_range(start=str(year), end=str(year+1), freq='W-SUN').strftime('%d-%B-%Y').tolist()\n",
    "\n",
    "year = int(input(\"Enter a year...\"))\n",
    "sundays(year)"
   ]
  },
  {
   "cell_type": "code",
   "execution_count": null,
   "metadata": {},
   "outputs": [],
   "source": []
  }
 ],
 "metadata": {
  "colab": {
   "collapsed_sections": [],
   "include_colab_link": true,
   "name": "In_class_exercise_01.ipynb",
   "provenance": []
  },
  "kernelspec": {
   "display_name": "Python 3 (ipykernel)",
   "language": "python",
   "name": "python3"
  },
  "language_info": {
   "codemirror_mode": {
    "name": "ipython",
    "version": 3
   },
   "file_extension": ".py",
   "mimetype": "text/x-python",
   "name": "python",
   "nbconvert_exporter": "python",
   "pygments_lexer": "ipython3",
   "version": "3.9.12"
  }
 },
 "nbformat": 4,
 "nbformat_minor": 1
}
