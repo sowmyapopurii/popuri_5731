{
 "cells": [
  {
   "cell_type": "markdown",
   "metadata": {
    "colab_type": "text",
    "id": "view-in-github"
   },
   "source": [
    "<a href=\"https://colab.research.google.com/github/unt-iialab/INFO5731_Spring2020/blob/master/Assignments/INFO5731_Assignment_One.ipynb\" target=\"_parent\"><img src=\"https://colab.research.google.com/assets/colab-badge.svg\" alt=\"Open In Colab\"/></a>"
   ]
  },
  {
   "cell_type": "markdown",
   "metadata": {
    "colab_type": "text",
    "id": "Ryk8D1Q4Wsrp"
   },
   "source": [
    "# **INFO5731 Assignment One**"
   ]
  },
  {
   "cell_type": "markdown",
   "metadata": {
    "colab_type": "text",
    "id": "90_NR8c5XGWc"
   },
   "source": [
    "# Question 1\n",
    "\n",
    "(20 points). Write a Python program to generate 12 random numbers between 1 and 100. Sort the list of numbers in ascending order and print it out. Sort the list of numbers in descending order and print it out. Calculate the average for the group and print it out."
   ]
  },
  {
   "cell_type": "code",
   "execution_count": 11,
   "metadata": {
    "colab": {},
    "colab_type": "code",
    "id": "5QX6bJjGWXY9"
   },
   "outputs": [
    {
     "name": "stdout",
     "output_type": "stream",
     "text": [
      "[94, 86, 67, 65, 65, 56, 37, 37, 28, 14, 13, 4]\n",
      "47.166666666666664\n"
     ]
    }
   ],
   "source": [
    "# Your code here\n",
    "from random import randint\n",
    "\n",
    "rand_list = [];\n",
    "for rand_count in range(12):\n",
    "    rand_list.append(randint(1,100))\n",
    "    \n",
    "# Sorting the list of numbers in ascending order\n",
    "rand_list.sort();    \n",
    "\n",
    "# Sorting the list of numbers in descending order\n",
    "rand_list.sort(reverse=True)\n",
    "print(rand_list)\n",
    "\n",
    "# Calculating the average for the group\n",
    "sum = 0\n",
    "for rand_num in rand_list:\n",
    "    sum+= rand_num\n",
    "\n",
    "avg = sum / len(rand_list)\n",
    "\n",
    "print(avg)"
   ]
  },
  {
   "cell_type": "markdown",
   "metadata": {
    "colab_type": "text",
    "id": "1F_PZdH9Sh49"
   },
   "source": [
    "# Question 2\n",
    "(25 points). Write a program that will do the following string formatting tasks:\n",
    "\n",
    "(1) Ask the user to enter two sentences.\n",
    "\n",
    "(2) Make each sentence into a list. Each element in the list should correspond to a word in the sentence. For example, if the sentence is \"Alas! Am I alive? This is my first python program\", the program should print out ['Alas, '!', 'Am', 'I', 'alive, '?', 'This', 'is', 'my', 'first', 'python', 'program'].\n",
    "\n",
    "(3) Compare the two sentences. Print out a list of words that occur in both sentences.\n",
    "\n",
    "(4) Remove any punctuation from the sentence and print it back out. It should remove at least the following characters, but it can remove more: period(“.”), comma (“,”), semicolon (“;”), and colon (“:”)\n",
    "\n",
    "(5) Count the number of vowels in the sentences. Print out each vowel and the number of times it appears in the sentences, such as: a:2, e:1, i:0, etc"
   ]
  },
  {
   "cell_type": "code",
   "execution_count": 26,
   "metadata": {
    "colab": {},
    "colab_type": "code",
    "id": "Y0oOSlsOS0cq"
   },
   "outputs": [
    {
     "name": "stdout",
     "output_type": "stream",
     "text": [
      "Enter the first sentence:\n",
      "Enter the second sentence:\n",
      "----------------------------------------------------------------------\n",
      "First sentence list : ['Am', 'I', 'Alive???']\n",
      "Second sentence list : ['Am', 'I', 'rod']\n",
      "----------------------------------------------------------------------\n",
      "Words that occur in both sentences :  ['Am', 'I']\n",
      "----------------------------------------------------------------------\n",
      "Punctuation remove from sentence1 :  Am I Alive???\n",
      "Punctuation remove from sentence2 :  Am I rod\n",
      "----------------------------------------------------------------------\n",
      "Vowel Count for sentences (vowels : aeiouAEIOU)\n",
      "Vowel count for sentence1: {'a': 0, 'e': 1, 'i': 1, 'o': 0, 'u': 0, 'A': 2, 'E': 0, 'I': 1, 'O': 0, 'U': 0}\n",
      "Vowel count for sentence2: {'a': 0, 'e': 0, 'i': 0, 'o': 1, 'u': 0, 'A': 1, 'E': 0, 'I': 1, 'O': 0, 'U': 0}\n"
     ]
    }
   ],
   "source": [
    "# Your code here\n",
    "\n",
    "print(\"Enter the first sentence:\")\n",
    "sentence1 = input()\n",
    "\n",
    "print(\"Enter the second sentence:\")\n",
    "sentence2 = input()\n",
    "\n",
    "sentence_list1 = sentence1.split(\" \")\n",
    "sentence_list2 = sentence2.split(\" \")\n",
    "\n",
    "print(\"----------------------------------------------------------------------\")\n",
    "\n",
    "print(\"First sentence list :\" ,sentence_list1)\n",
    "print(\"Second sentence list :\" ,sentence_list2)\n",
    "\n",
    "print(\"----------------------------------------------------------------------\")\n",
    "\n",
    "common_words = []\n",
    "for i in range(len(sentence_list1)):\n",
    "    for j in range(len(sentence_list2)):\n",
    "        if (sentence_list1[i] == sentence_list2[j]):\n",
    "            common_words.append(sentence_list1[i])\n",
    "\n",
    "print(\"Words that occur in both sentences : \",common_words)\n",
    "\n",
    "print(\"----------------------------------------------------------------------\")\n",
    "\n",
    "sentence1=sentence1.replace(\".\",\"\")\n",
    "sentence2=sentence2.replace(\".\",\"\")\n",
    "\n",
    "sentence1=sentence1.replace(\",\",\"\")\n",
    "sentence2=sentence2.replace(\",\",\"\")\n",
    "\n",
    "sentence1=sentence1.replace(\";\",\"\")\n",
    "sentence2=sentence2.replace(\";\",\"\")\n",
    "\n",
    "sentence1=sentence1.replace(\":\",\"\")\n",
    "sentence2=sentence2.replace(\":\",\"\")\n",
    "\n",
    "\n",
    "print(\"Punctuation remove from sentence1 : \" , sentence1)\n",
    "print(\"Punctuation remove from sentence2 : \" , sentence2)\n",
    "\n",
    "print(\"----------------------------------------------------------------------\")\n",
    "\n",
    "vowel_count1 = {}.fromkeys('aeiouAEIOU',0)\n",
    "vowel_count2 = {}.fromkeys('aeiouAEIOU',0)\n",
    "\n",
    "\n",
    "for c in sentence1:\n",
    "    if c in vowel_count1:\n",
    "        vowel_count1[c]+=1\n",
    "\n",
    "for c in sentence2:\n",
    "    if c in vowel_count2:\n",
    "        vowel_count2[c]+=1\n",
    "\n",
    "print(\"Vowel Count for sentences (vowels : aeiouAEIOU)\")\n",
    "print(\"Vowel count for sentence1:\",vowel_count1)\n",
    "print(\"Vowel count for sentence2:\",vowel_count2)"
   ]
  },
  {
   "cell_type": "markdown",
   "metadata": {
    "colab_type": "text",
    "id": "CmFoI4jDS9nx"
   },
   "source": [
    "# Question 3 \n",
    "\n",
    "(15 points). The formula that describes the volume V of a sphere with radius r is the following:\n",
    "\n",
    "$ V=\\frac{4}{3}\\ast\\ \\pi\\ast\\ r^3 $\n",
    "\n",
    "Write a program to calculate the value of V when r is in the range of 1–10. Output the result in the following format:\n",
    "\n",
    "\tr\tV\n",
    "\t1\t…\n",
    "\t2\t…\n",
    "\t3\t…\n"
   ]
  },
  {
   "cell_type": "code",
   "execution_count": 31,
   "metadata": {
    "colab": {},
    "colab_type": "code",
    "id": "pEyqeioAT95b"
   },
   "outputs": [
    {
     "name": "stdout",
     "output_type": "stream",
     "text": [
      "Volume of a sphere with radius r = 1  is  4.1887902047863905\n",
      "Volume of a sphere with radius r = 2  is  33.510321638291124\n",
      "Volume of a sphere with radius r = 3  is  113.09733552923254\n",
      "Volume of a sphere with radius r = 4  is  268.082573106329\n",
      "Volume of a sphere with radius r = 5  is  523.5987755982989\n",
      "Volume of a sphere with radius r = 6  is  904.7786842338603\n",
      "Volume of a sphere with radius r = 7  is  1436.7550402417319\n",
      "Volume of a sphere with radius r = 8  is  2144.660584850632\n",
      "Volume of a sphere with radius r = 9  is  3053.6280592892786\n"
     ]
    }
   ],
   "source": [
    "# Your code here\n",
    "\n",
    "import math\n",
    "\n",
    "for r in range(1,10):\n",
    "    v = (4/3) * (math.pi) * math.pow(r,3)\n",
    "    print(\"Volume of a sphere with radius r =\",r,\" is \",v)\n"
   ]
  },
  {
   "cell_type": "markdown",
   "metadata": {
    "colab_type": "text",
    "id": "z3tBE7E-Xn5X"
   },
   "source": [
    "# Question 4\n",
    "\n",
    "(40 points). In the field of Data Science, data is often formatted as a comma-delimited (CSV) file, where each line in a file corresponds to a field's value. Refer to Chapter 9 (p. 106) for more information on comma-delimited files. To answer this question, you will need to download the file [Assignment1_denton_housing.csv](https://raw.githubusercontent.com/unt-iialab/info5731-spring2022/main/assignments/Assignment1_denton_housing.csv) included with this assignment. The file [Assignment1_denton_housing.csv](https://raw.githubusercontent.com/unt-iialab/info5731-spring2022/main/assignments/Assignment1_denton_housing.csv) contains statistics about housing in the city of Denton from 2008 to 2014. Write a program to implement the following questions.\n",
    "\n",
    "(1) (10 pts) Calculate the difference in the number of Occupied Housing Units from year to year and print it. The difference must be calculated for the consecutive years such as 2008-2009, 2009-2010 etc. Finally, print the values in the ascending order.\n",
    "\n",
    "(2) (10 pts) For all the years, calculate the percentage of housing units which are vacant an occupied. Print the results in the following format:\n",
    "\n",
    "Year Vacant Housing Units Occupied Housing Units\n",
    "\n",
    "    2008  30%   70%                          \n",
    "\t2009 ----- -----\n",
    "\t2010 ----- -----\n",
    "    2011 ----- -----\n",
    "\t2012 ----- -----\n",
    "    2013 ----- -----\n",
    "\t2014 ----- -----\n",
    "  \n",
    "  \n",
    "\n",
    "(3) (10 pts) Calculate and print the valued and years in which the highest number of housing units were vacant and occupied. Print the results in the following format:  \n",
    "\n",
    "                              Year\tValue\n",
    "\tVacant Housing Units\t  -----   -----\n",
    "\tOccupied Housing Units\t-----   -----\n",
    "\n",
    "(4) (10 pts) Calculate the harmonic mean of the total housing units and print it out. You can find the information about harmonic mean here: https://ncalculators.com/statistics/harmonic-mean-calculator.htm"
   ]
  },
  {
   "cell_type": "code",
   "execution_count": 18,
   "metadata": {
    "colab": {},
    "colab_type": "code",
    "id": "lqGYuHBhcsRH"
   },
   "outputs": [],
   "source": [
    "# Your code here\n",
    "\n",
    "\n",
    "import pandas as pd\n",
    "import numpy as np\n",
    "import math\n"
   ]
  },
  {
   "cell_type": "code",
   "execution_count": 2,
   "metadata": {},
   "outputs": [
    {
     "data": {
      "text/html": [
       "<div>\n",
       "<style scoped>\n",
       "    .dataframe tbody tr th:only-of-type {\n",
       "        vertical-align: middle;\n",
       "    }\n",
       "\n",
       "    .dataframe tbody tr th {\n",
       "        vertical-align: top;\n",
       "    }\n",
       "\n",
       "    .dataframe thead th {\n",
       "        text-align: right;\n",
       "    }\n",
       "</style>\n",
       "<table border=\"1\" class=\"dataframe\">\n",
       "  <thead>\n",
       "    <tr style=\"text-align: right;\">\n",
       "      <th></th>\n",
       "      <th>year</th>\n",
       "      <th>title_field</th>\n",
       "      <th>value</th>\n",
       "    </tr>\n",
       "  </thead>\n",
       "  <tbody>\n",
       "    <tr>\n",
       "      <th>0</th>\n",
       "      <td>2014</td>\n",
       "      <td>Total Housing Units</td>\n",
       "      <td>49109</td>\n",
       "    </tr>\n",
       "    <tr>\n",
       "      <th>1</th>\n",
       "      <td>2014</td>\n",
       "      <td>Vacant Housing Units</td>\n",
       "      <td>2814</td>\n",
       "    </tr>\n",
       "    <tr>\n",
       "      <th>2</th>\n",
       "      <td>2014</td>\n",
       "      <td>Occupied Housing Units</td>\n",
       "      <td>46295</td>\n",
       "    </tr>\n",
       "    <tr>\n",
       "      <th>3</th>\n",
       "      <td>2013</td>\n",
       "      <td>Total Housing Units</td>\n",
       "      <td>47888</td>\n",
       "    </tr>\n",
       "    <tr>\n",
       "      <th>4</th>\n",
       "      <td>2013</td>\n",
       "      <td>Vacant Housing Units</td>\n",
       "      <td>4215</td>\n",
       "    </tr>\n",
       "  </tbody>\n",
       "</table>\n",
       "</div>"
      ],
      "text/plain": [
       "   year             title_field  value\n",
       "0  2014     Total Housing Units  49109\n",
       "1  2014    Vacant Housing Units   2814\n",
       "2  2014  Occupied Housing Units  46295\n",
       "3  2013     Total Housing Units  47888\n",
       "4  2013    Vacant Housing Units   4215"
      ]
     },
     "execution_count": 2,
     "metadata": {},
     "output_type": "execute_result"
    }
   ],
   "source": [
    "df = pd.read_csv(\"Assignment1_denton_housing.csv\")\n",
    "\n",
    "df.head()"
   ]
  },
  {
   "cell_type": "code",
   "execution_count": 21,
   "metadata": {},
   "outputs": [
    {
     "name": "stdout",
     "output_type": "stream",
     "text": [
      "    year             title_field  value\n",
      "2   2014  Occupied Housing Units  46295\n",
      "5   2013  Occupied Housing Units  43673\n",
      "8   2012  Occupied Housing Units  42108\n",
      "11  2011  Occupied Housing Units  40704\n",
      "14  2010  Occupied Housing Units  41007\n",
      "17  2009  Occupied Housing Units  35916\n",
      "20  2008  Occupied Housing Units  36711\n",
      "[46295, 43673, 42108, 40704, 41007, 35916, 36711]\n",
      "7\n"
     ]
    },
    {
     "data": {
      "text/plain": [
       "[303, 795, 1404, 1565, 2622, 5091]"
      ]
     },
     "execution_count": 21,
     "metadata": {},
     "output_type": "execute_result"
    }
   ],
   "source": [
    "occupied_housing_units = df[df['title_field'] == 'Occupied Housing Units'] \n",
    "print(occupied_housing_units)\n",
    "\n",
    "consecutive_years_diff = []\n",
    "\n",
    "value = occupied_housing_units['value'].tolist()\n",
    "\n",
    "print(value)\n",
    "print(len(value))\n",
    "for i in range(0,len(value)-1):\n",
    "    diff_value = value[i+1]-value[i]\n",
    "    # storing absolute values to store the different\n",
    "    consecutive_years_diff.append(abs(diff_value))\n",
    "\n",
    "consecutive_years_diff.sort()\n",
    "consecutive_years_diff"
   ]
  },
  {
   "cell_type": "code",
   "execution_count": 57,
   "metadata": {},
   "outputs": [
    {
     "data": {
      "text/html": [
       "<div>\n",
       "<style scoped>\n",
       "    .dataframe tbody tr th:only-of-type {\n",
       "        vertical-align: middle;\n",
       "    }\n",
       "\n",
       "    .dataframe tbody tr th {\n",
       "        vertical-align: top;\n",
       "    }\n",
       "\n",
       "    .dataframe thead th {\n",
       "        text-align: right;\n",
       "    }\n",
       "</style>\n",
       "<table border=\"1\" class=\"dataframe\">\n",
       "  <thead>\n",
       "    <tr style=\"text-align: right;\">\n",
       "      <th></th>\n",
       "      <th>index</th>\n",
       "      <th>year</th>\n",
       "      <th>title_field</th>\n",
       "      <th>value</th>\n",
       "    </tr>\n",
       "  </thead>\n",
       "  <tbody>\n",
       "    <tr>\n",
       "      <th>0</th>\n",
       "      <td>0</td>\n",
       "      <td>2014</td>\n",
       "      <td>Total Housing Units</td>\n",
       "      <td>49109</td>\n",
       "    </tr>\n",
       "    <tr>\n",
       "      <th>1</th>\n",
       "      <td>3</td>\n",
       "      <td>2013</td>\n",
       "      <td>Total Housing Units</td>\n",
       "      <td>47888</td>\n",
       "    </tr>\n",
       "    <tr>\n",
       "      <th>2</th>\n",
       "      <td>6</td>\n",
       "      <td>2012</td>\n",
       "      <td>Total Housing Units</td>\n",
       "      <td>45121</td>\n",
       "    </tr>\n",
       "    <tr>\n",
       "      <th>3</th>\n",
       "      <td>9</td>\n",
       "      <td>2011</td>\n",
       "      <td>Total Housing Units</td>\n",
       "      <td>44917</td>\n",
       "    </tr>\n",
       "    <tr>\n",
       "      <th>4</th>\n",
       "      <td>12</td>\n",
       "      <td>2010</td>\n",
       "      <td>Total Housing Units</td>\n",
       "      <td>44642</td>\n",
       "    </tr>\n",
       "    <tr>\n",
       "      <th>5</th>\n",
       "      <td>15</td>\n",
       "      <td>2009</td>\n",
       "      <td>Total Housing Units</td>\n",
       "      <td>39499</td>\n",
       "    </tr>\n",
       "    <tr>\n",
       "      <th>6</th>\n",
       "      <td>18</td>\n",
       "      <td>2008</td>\n",
       "      <td>Total Housing Units</td>\n",
       "      <td>41194</td>\n",
       "    </tr>\n",
       "  </tbody>\n",
       "</table>\n",
       "</div>"
      ],
      "text/plain": [
       "   index  year          title_field  value\n",
       "0      0  2014  Total Housing Units  49109\n",
       "1      3  2013  Total Housing Units  47888\n",
       "2      6  2012  Total Housing Units  45121\n",
       "3      9  2011  Total Housing Units  44917\n",
       "4     12  2010  Total Housing Units  44642\n",
       "5     15  2009  Total Housing Units  39499\n",
       "6     18  2008  Total Housing Units  41194"
      ]
     },
     "execution_count": 57,
     "metadata": {},
     "output_type": "execute_result"
    }
   ],
   "source": [
    "total_housing_units = df[df['title_field'] == 'Total Housing Units']\n",
    "vacant_housing_units = df[df['title_field'] == 'Vacant Housing Units'] \n",
    "occupied_housing_units = df[df['title_field'] == 'Occupied Housing Units']\n",
    "\n",
    "\n",
    "total_housing_units = total_housing_units.reset_index()\n",
    "vacant_housing_units = vacant_housing_units.reset_index()\n",
    "occupied_housing_units = occupied_housing_units.reset_index()\n",
    "\n",
    "total_housing_units"
   ]
  },
  {
   "cell_type": "code",
   "execution_count": 65,
   "metadata": {},
   "outputs": [
    {
     "data": {
      "text/html": [
       "<div>\n",
       "<style scoped>\n",
       "    .dataframe tbody tr th:only-of-type {\n",
       "        vertical-align: middle;\n",
       "    }\n",
       "\n",
       "    .dataframe tbody tr th {\n",
       "        vertical-align: top;\n",
       "    }\n",
       "\n",
       "    .dataframe thead th {\n",
       "        text-align: right;\n",
       "    }\n",
       "</style>\n",
       "<table border=\"1\" class=\"dataframe\">\n",
       "  <thead>\n",
       "    <tr style=\"text-align: right;\">\n",
       "      <th></th>\n",
       "      <th>year</th>\n",
       "      <th>Vacant Housing Units</th>\n",
       "      <th>Occupied Housing Units</th>\n",
       "    </tr>\n",
       "  </thead>\n",
       "  <tbody>\n",
       "    <tr>\n",
       "      <th>0</th>\n",
       "      <td>2014</td>\n",
       "      <td>5.730111</td>\n",
       "      <td>94.269889</td>\n",
       "    </tr>\n",
       "    <tr>\n",
       "      <th>1</th>\n",
       "      <td>2013</td>\n",
       "      <td>8.801788</td>\n",
       "      <td>91.198212</td>\n",
       "    </tr>\n",
       "    <tr>\n",
       "      <th>2</th>\n",
       "      <td>2012</td>\n",
       "      <td>6.677600</td>\n",
       "      <td>93.322400</td>\n",
       "    </tr>\n",
       "    <tr>\n",
       "      <th>3</th>\n",
       "      <td>2011</td>\n",
       "      <td>9.379522</td>\n",
       "      <td>90.620478</td>\n",
       "    </tr>\n",
       "    <tr>\n",
       "      <th>4</th>\n",
       "      <td>2010</td>\n",
       "      <td>8.142556</td>\n",
       "      <td>91.857444</td>\n",
       "    </tr>\n",
       "    <tr>\n",
       "      <th>5</th>\n",
       "      <td>2009</td>\n",
       "      <td>9.071116</td>\n",
       "      <td>90.928884</td>\n",
       "    </tr>\n",
       "    <tr>\n",
       "      <th>6</th>\n",
       "      <td>2008</td>\n",
       "      <td>10.882653</td>\n",
       "      <td>89.117347</td>\n",
       "    </tr>\n",
       "  </tbody>\n",
       "</table>\n",
       "</div>"
      ],
      "text/plain": [
       "   year  Vacant Housing Units  Occupied Housing Units\n",
       "0  2014              5.730111               94.269889\n",
       "1  2013              8.801788               91.198212\n",
       "2  2012              6.677600               93.322400\n",
       "3  2011              9.379522               90.620478\n",
       "4  2010              8.142556               91.857444\n",
       "5  2009              9.071116               90.928884\n",
       "6  2008             10.882653               89.117347"
      ]
     },
     "execution_count": 65,
     "metadata": {},
     "output_type": "execute_result"
    }
   ],
   "source": [
    "\n",
    "\n",
    "housing_percentage = pd.DataFrame(total_housing_units['year'])\n",
    "\n",
    "housing_percentage['Vacant Housing Units'] = (vacant_housing_units['value'] / total_housing_units['value'] )*100\n",
    "housing_percentage['Occupied Housing Units'] = (occupied_housing_units['value'] / total_housing_units['value'] )*100 \n",
    "housing_percentage"
   ]
  },
  {
   "cell_type": "code",
   "execution_count": 89,
   "metadata": {},
   "outputs": [
    {
     "data": {
      "text/html": [
       "<div>\n",
       "<style scoped>\n",
       "    .dataframe tbody tr th:only-of-type {\n",
       "        vertical-align: middle;\n",
       "    }\n",
       "\n",
       "    .dataframe tbody tr th {\n",
       "        vertical-align: top;\n",
       "    }\n",
       "\n",
       "    .dataframe thead th {\n",
       "        text-align: right;\n",
       "    }\n",
       "</style>\n",
       "<table border=\"1\" class=\"dataframe\">\n",
       "  <thead>\n",
       "    <tr style=\"text-align: right;\">\n",
       "      <th></th>\n",
       "      <th>index</th>\n",
       "      <th>year</th>\n",
       "      <th>title_field</th>\n",
       "      <th>value</th>\n",
       "    </tr>\n",
       "  </thead>\n",
       "  <tbody>\n",
       "    <tr>\n",
       "      <th>6</th>\n",
       "      <td>19</td>\n",
       "      <td>2008</td>\n",
       "      <td>Vacant Housing Units</td>\n",
       "      <td>4483</td>\n",
       "    </tr>\n",
       "  </tbody>\n",
       "</table>\n",
       "</div>"
      ],
      "text/plain": [
       "   index  year           title_field  value\n",
       "6     19  2008  Vacant Housing Units   4483"
      ]
     },
     "execution_count": 89,
     "metadata": {},
     "output_type": "execute_result"
    }
   ],
   "source": [
    "Highest_vacant_housing_units = pd.DataFrame()\n",
    "Highest_vacant_housing_units = vacant_housing_units[vacant_housing_units['value'] == vacant_housing_units['value'].max()]\n",
    "Highest_vacant_housing_units"
   ]
  },
  {
   "cell_type": "code",
   "execution_count": 90,
   "metadata": {},
   "outputs": [
    {
     "data": {
      "text/html": [
       "<div>\n",
       "<style scoped>\n",
       "    .dataframe tbody tr th:only-of-type {\n",
       "        vertical-align: middle;\n",
       "    }\n",
       "\n",
       "    .dataframe tbody tr th {\n",
       "        vertical-align: top;\n",
       "    }\n",
       "\n",
       "    .dataframe thead th {\n",
       "        text-align: right;\n",
       "    }\n",
       "</style>\n",
       "<table border=\"1\" class=\"dataframe\">\n",
       "  <thead>\n",
       "    <tr style=\"text-align: right;\">\n",
       "      <th></th>\n",
       "      <th>index</th>\n",
       "      <th>year</th>\n",
       "      <th>title_field</th>\n",
       "      <th>value</th>\n",
       "    </tr>\n",
       "  </thead>\n",
       "  <tbody>\n",
       "    <tr>\n",
       "      <th>0</th>\n",
       "      <td>2</td>\n",
       "      <td>2014</td>\n",
       "      <td>Occupied Housing Units</td>\n",
       "      <td>46295</td>\n",
       "    </tr>\n",
       "  </tbody>\n",
       "</table>\n",
       "</div>"
      ],
      "text/plain": [
       "   index  year             title_field  value\n",
       "0      2  2014  Occupied Housing Units  46295"
      ]
     },
     "execution_count": 90,
     "metadata": {},
     "output_type": "execute_result"
    }
   ],
   "source": [
    "Highest_occupied_housing_units = pd.DataFrame()\n",
    "Highest_occupied_housing_units = occupied_housing_units[occupied_housing_units['value'] == occupied_housing_units['value'].max()]\n",
    "Highest_occupied_housing_units"
   ]
  },
  {
   "cell_type": "code",
   "execution_count": 119,
   "metadata": {},
   "outputs": [
    {
     "data": {
      "text/html": [
       "<div>\n",
       "<style scoped>\n",
       "    .dataframe tbody tr th:only-of-type {\n",
       "        vertical-align: middle;\n",
       "    }\n",
       "\n",
       "    .dataframe tbody tr th {\n",
       "        vertical-align: top;\n",
       "    }\n",
       "\n",
       "    .dataframe thead th {\n",
       "        text-align: right;\n",
       "    }\n",
       "</style>\n",
       "<table border=\"1\" class=\"dataframe\">\n",
       "  <thead>\n",
       "    <tr style=\"text-align: right;\">\n",
       "      <th></th>\n",
       "      <th>title_field</th>\n",
       "      <th>value</th>\n",
       "      <th>year</th>\n",
       "    </tr>\n",
       "  </thead>\n",
       "  <tbody>\n",
       "    <tr>\n",
       "      <th>0</th>\n",
       "      <td>Vacant Housing Units</td>\n",
       "      <td>4483.0</td>\n",
       "      <td>2008</td>\n",
       "    </tr>\n",
       "    <tr>\n",
       "      <th>1</th>\n",
       "      <td>Occupied Housing Units</td>\n",
       "      <td>46295.0</td>\n",
       "      <td>2014</td>\n",
       "    </tr>\n",
       "  </tbody>\n",
       "</table>\n",
       "</div>"
      ],
      "text/plain": [
       "              title_field    value  year\n",
       "0    Vacant Housing Units   4483.0  2008\n",
       "1  Occupied Housing Units  46295.0  2014"
      ]
     },
     "execution_count": 119,
     "metadata": {},
     "output_type": "execute_result"
    }
   ],
   "source": [
    "\n",
    "\n",
    "Highest_housing_units = pd.DataFrame()\n",
    "Highest_housing_units= Highest_housing_units.append(Highest_vacant_housing_units.iloc[0],ignore_index= True)\n",
    "Highest_housing_units = Highest_housing_units.append(Highest_occupied_housing_units.iloc[0],ignore_index=True)\n",
    "Highest_housing_units['year'] = Highest_housing_units['year'].astype('int32')\n",
    "Highest_housing_units.drop(['index'],axis = 1,inplace=True)\n",
    "Highest_housing_units"
   ]
  },
  {
   "cell_type": "code",
   "execution_count": 120,
   "metadata": {},
   "outputs": [
    {
     "data": {
      "text/html": [
       "<div>\n",
       "<style scoped>\n",
       "    .dataframe tbody tr th:only-of-type {\n",
       "        vertical-align: middle;\n",
       "    }\n",
       "\n",
       "    .dataframe tbody tr th {\n",
       "        vertical-align: top;\n",
       "    }\n",
       "\n",
       "    .dataframe thead th {\n",
       "        text-align: right;\n",
       "    }\n",
       "</style>\n",
       "<table border=\"1\" class=\"dataframe\">\n",
       "  <thead>\n",
       "    <tr style=\"text-align: right;\">\n",
       "      <th></th>\n",
       "      <th>index</th>\n",
       "      <th>year</th>\n",
       "      <th>title_field</th>\n",
       "      <th>value</th>\n",
       "    </tr>\n",
       "  </thead>\n",
       "  <tbody>\n",
       "    <tr>\n",
       "      <th>0</th>\n",
       "      <td>0</td>\n",
       "      <td>2014</td>\n",
       "      <td>Total Housing Units</td>\n",
       "      <td>49109</td>\n",
       "    </tr>\n",
       "    <tr>\n",
       "      <th>1</th>\n",
       "      <td>3</td>\n",
       "      <td>2013</td>\n",
       "      <td>Total Housing Units</td>\n",
       "      <td>47888</td>\n",
       "    </tr>\n",
       "    <tr>\n",
       "      <th>2</th>\n",
       "      <td>6</td>\n",
       "      <td>2012</td>\n",
       "      <td>Total Housing Units</td>\n",
       "      <td>45121</td>\n",
       "    </tr>\n",
       "    <tr>\n",
       "      <th>3</th>\n",
       "      <td>9</td>\n",
       "      <td>2011</td>\n",
       "      <td>Total Housing Units</td>\n",
       "      <td>44917</td>\n",
       "    </tr>\n",
       "    <tr>\n",
       "      <th>4</th>\n",
       "      <td>12</td>\n",
       "      <td>2010</td>\n",
       "      <td>Total Housing Units</td>\n",
       "      <td>44642</td>\n",
       "    </tr>\n",
       "    <tr>\n",
       "      <th>5</th>\n",
       "      <td>15</td>\n",
       "      <td>2009</td>\n",
       "      <td>Total Housing Units</td>\n",
       "      <td>39499</td>\n",
       "    </tr>\n",
       "    <tr>\n",
       "      <th>6</th>\n",
       "      <td>18</td>\n",
       "      <td>2008</td>\n",
       "      <td>Total Housing Units</td>\n",
       "      <td>41194</td>\n",
       "    </tr>\n",
       "  </tbody>\n",
       "</table>\n",
       "</div>"
      ],
      "text/plain": [
       "   index  year          title_field  value\n",
       "0      0  2014  Total Housing Units  49109\n",
       "1      3  2013  Total Housing Units  47888\n",
       "2      6  2012  Total Housing Units  45121\n",
       "3      9  2011  Total Housing Units  44917\n",
       "4     12  2010  Total Housing Units  44642\n",
       "5     15  2009  Total Housing Units  39499\n",
       "6     18  2008  Total Housing Units  41194"
      ]
     },
     "execution_count": 120,
     "metadata": {},
     "output_type": "execute_result"
    }
   ],
   "source": [
    "total_housing_units\n",
    "\n"
   ]
  },
  {
   "cell_type": "code",
   "execution_count": 128,
   "metadata": {},
   "outputs": [
    {
     "name": "stdout",
     "output_type": "stream",
     "text": [
      "44398.28543969185\n"
     ]
    }
   ],
   "source": [
    "# Calculate harmonic mean\n",
    "\n",
    "sum_deno = 0\n",
    "\n",
    "for value in total_housing_units['value']:\n",
    "    sum_deno+= 1/value\n",
    "\n",
    "housing_harmonic_mean = len(total_housing_units['value']) / sum_deno\n",
    "print(housing_harmonic_mean)"
   ]
  },
  {
   "cell_type": "code",
   "execution_count": null,
   "metadata": {},
   "outputs": [],
   "source": []
  }
 ],
 "metadata": {
  "colab": {
   "authorship_tag": "ABX9TyOAjsNCkNulTpzgRQbHdy3f",
   "collapsed_sections": [],
   "include_colab_link": true,
   "name": "INFO5731_Assignment_One.ipynb",
   "provenance": []
  },
  "kernelspec": {
   "display_name": "Python 3.9.5 64-bit",
   "language": "python",
   "name": "python3"
  },
  "language_info": {
   "codemirror_mode": {
    "name": "ipython",
    "version": 3
   },
   "file_extension": ".py",
   "mimetype": "text/x-python",
   "name": "python",
   "nbconvert_exporter": "python",
   "pygments_lexer": "ipython3",
   "version": "3.9.5"
  },
  "vscode": {
   "interpreter": {
    "hash": "aa266f369850c7f6931ca25267108b1f1799d405727d3ce5707687eed89db9e0"
   }
  }
 },
 "nbformat": 4,
 "nbformat_minor": 1
}
